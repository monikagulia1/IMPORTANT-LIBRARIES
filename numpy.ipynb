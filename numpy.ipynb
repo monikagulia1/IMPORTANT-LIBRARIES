{
  "nbformat": 4,
  "nbformat_minor": 0,
  "metadata": {
    "colab": {
      "provenance": [],
      "toc_visible": true,
      "authorship_tag": "ABX9TyOQOAqIQSfXwg50DYtSli22",
      "include_colab_link": true
    },
    "kernelspec": {
      "name": "python3",
      "display_name": "Python 3"
    },
    "language_info": {
      "name": "python"
    }
  },
  "cells": [
    {
      "cell_type": "markdown",
      "metadata": {
        "id": "view-in-github",
        "colab_type": "text"
      },
      "source": [
        "<a href=\"https://colab.research.google.com/github/monikagulia1/IMPORTANT-LIBRARIES/blob/main/numpy.ipynb\" target=\"_parent\"><img src=\"https://colab.research.google.com/assets/colab-badge.svg\" alt=\"Open In Colab\"/></a>"
      ]
    },
    {
      "cell_type": "code",
      "execution_count": null,
      "metadata": {
        "colab": {
          "base_uri": "https://localhost:8080/"
        },
        "id": "5c3J4vY6dSk0",
        "outputId": "e100f4af-e0c3-42de-f360-8440f5bee98b"
      },
      "outputs": [
        {
          "output_type": "stream",
          "name": "stdout",
          "text": [
            "[1 2 3 4 5]\n",
            "[0. 0. 0. 0. 0.]\n",
            "[1. 1. 1. 1. 1.]\n"
          ]
        }
      ],
      "source": [
        "import numpy as np\n",
        "\n",
        "# Create an array from a list\n",
        "arr = np.array([1, 2, 3, 4, 5])\n",
        "print(arr)  # Output: [1 2 3 4 5]\n",
        "\n",
        "# Create an array filled with zeros\n",
        "arr = np.zeros(5)\n",
        "print(arr)  # Output: [0. 0. 0. 0. 0.]\n",
        "\n",
        "# Create an array filled with ones\n",
        "arr = np.ones(5)\n",
        "print(arr)  # Output: [1. 1. 1. 1. 1.]"
      ]
    },
    {
      "cell_type": "code",
      "source": [
        "arr = np.array([1, 2, 3, 4, 5, 6, 7, 8, 9])\n",
        "\n",
        "# Access the element at index 3\n",
        "print(arr[3])  # Output: 4\n",
        "\n",
        "# Access the slice of elements from index 2 to 5\n",
        "print(arr[2:5])  # Output: [3 4 5]\n",
        "\n",
        "# Access the slice of elements from index 2 to 7 with step size 2\n",
        "print(arr[2:7:2])  # Output: [3 5 7]"
      ],
      "metadata": {
        "colab": {
          "base_uri": "https://localhost:8080/"
        },
        "id": "nT4JuInAeGUZ",
        "outputId": "8b2a97ea-dd81-428f-abdc-e94608ac3e45"
      },
      "execution_count": null,
      "outputs": [
        {
          "output_type": "stream",
          "name": "stdout",
          "text": [
            "4\n",
            "[3 4 5]\n",
            "[3 5 7]\n"
          ]
        }
      ]
    },
    {
      "cell_type": "code",
      "source": [
        "arr1 = np.array([1, 2, 3])\n",
        "arr2 = np.array([4, 5, 6])\n",
        "\n",
        "# Element-wise addition\n",
        "print(arr1 + arr2)  # Output: [5 7 9]\n",
        "\n",
        "# Element-wise multiplication\n",
        "print(arr1 * arr2)  # Output: [ 4 10 18]"
      ],
      "metadata": {
        "colab": {
          "base_uri": "https://localhost:8080/"
        },
        "id": "bh3JzOGqeNNl",
        "outputId": "7b418b40-d37d-425d-8be0-f501ef8763d8"
      },
      "execution_count": null,
      "outputs": [
        {
          "output_type": "stream",
          "name": "stdout",
          "text": [
            "[5 7 9]\n",
            "[ 4 10 18]\n"
          ]
        }
      ]
    },
    {
      "cell_type": "code",
      "source": [
        "arr1 = np.array([[1, 2], [3, 4]])\n",
        "arr2 = np.array([[5, 6], [7, 8]])\n",
        "\n",
        "# Matrix multiplication\n",
        "print(arr1 @ arr2)  # Output: [[19 22], [43 50]]"
      ],
      "metadata": {
        "colab": {
          "base_uri": "https://localhost:8080/"
        },
        "id": "9NI8G0p8eWx6",
        "outputId": "7598a0c0-30e3-4ad6-cae8-94db274ee406"
      },
      "execution_count": null,
      "outputs": [
        {
          "output_type": "stream",
          "name": "stdout",
          "text": [
            "[[19 22]\n",
            " [43 50]]\n"
          ]
        }
      ]
    },
    {
      "cell_type": "code",
      "source": [
        "# Generate an array of 5 random numbers\n",
        "arr = np.random.rand(5)\n",
        "print(arr)\n",
        "\n",
        "# Generate an array of 5 random numbers from a normal distribution\n",
        "arr = np.random.randn(5)\n",
        "print(arr)\n",
        "\n",
        "# Generate an array of 5 random integers between 0 and 10\n",
        "arr = np.random.randint(0, 10, 5)\n",
        "print(arr)\n",
        "\n",
        "# Generate an array of 5 random choices from the array [1, 2, 3, 4, 5]\n",
        "arr = np.random.choice([1, 2, 3, 4, 5], 5)\n",
        "print(arr)"
      ],
      "metadata": {
        "colab": {
          "base_uri": "https://localhost:8080/"
        },
        "id": "yLyX-MoMej7g",
        "outputId": "7d2aa11e-f041-42a2-9a25-2cdded3babf6"
      },
      "execution_count": null,
      "outputs": [
        {
          "output_type": "stream",
          "name": "stdout",
          "text": [
            "[0.6450711  0.09078893 0.53778626 0.69091008 0.59365532]\n",
            "[-1.29930286  2.18659209 -0.98756007 -0.50092735  1.06969734]\n",
            "[4 9 3 1 1]\n",
            "[2 1 1 1 4]\n"
          ]
        }
      ]
    },
    {
      "source": [
        "arr = np.array([[1, 2], [3, 4]])\n",
        "\n",
        "# Reshape the array to a 1D array\n",
        "arr = np.reshape(arr, (4,))\n",
        "print(arr)\n",
        "\n",
        "# Transpose the array\n",
        "arr = np.transpose(arr)\n",
        "print(arr)\n",
        "\n",
        "# Flatten the array\n",
        "arr = arr.flatten() # removed arr from the arguments of flatten() method\n",
        "print(arr)\n",
        "\n",
        "# Concatenate two arrays\n",
        "arr1 = np.array([1, 2])\n",
        "arr2 = np.array([3, 4])\n",
        "arr = np.concatenate((arr1, arr2))\n",
        "print(arr)\n",
        "\n",
        "# Split the array into two parts\n",
        "arr = np.split(arr, 2)\n",
        "print(arr)"
      ],
      "cell_type": "code",
      "metadata": {
        "colab": {
          "base_uri": "https://localhost:8080/"
        },
        "id": "ru3ILPZIf4gf",
        "outputId": "9ad47c0c-9df3-481c-eafe-70b123301231"
      },
      "execution_count": null,
      "outputs": [
        {
          "output_type": "stream",
          "name": "stdout",
          "text": [
            "[1 2 3 4]\n",
            "[1 2 3 4]\n",
            "[1 2 3 4]\n",
            "[1 2 3 4]\n",
            "[array([1, 2]), array([3, 4])]\n"
          ]
        }
      ]
    },
    {
      "cell_type": "code",
      "source": [
        "arr = np.array([3, 1, 2, 4])\n",
        "\n",
        "# Find the indices of elements that are greater than 2\n",
        "indices = np.where(arr > 2)\n",
        "print(indices)\n",
        "\n",
        "# Find the indices where elements should be inserted to maintain sorted order\n",
        "indices = np.searchsorted(arr, [2.5, 3.5])\n",
        "print(indices)\n",
        "\n",
        "# Sort the array\n",
        "arr = np.sort(arr)\n",
        "print(arr)\n",
        "\n",
        "# Return the indices that would sort the array\n",
        "indices = np.argsort(arr)\n",
        "print(indices)"
      ],
      "metadata": {
        "colab": {
          "base_uri": "https://localhost:8080/"
        },
        "id": "N4IjIH_yfm1G",
        "outputId": "4137bd87-2365-48ef-fecc-0a55a2fa47f5"
      },
      "execution_count": null,
      "outputs": [
        {
          "output_type": "stream",
          "name": "stdout",
          "text": [
            "(array([0, 3]),)\n",
            "[3 3]\n",
            "[1 2 3 4]\n",
            "[0 1 2 3]\n"
          ]
        }
      ]
    },
    {
      "cell_type": "code",
      "source": [
        "arr = np.array([1, 2, 3, 4, 5])\n",
        "\n",
        "# Calculate the minimum value\n",
        "min_value = np.min(arr)\n",
        "print(min_value)\n",
        "\n",
        "# Calculate the maximum value\n",
        "max_value = np.max(arr)\n",
        "print(max_value)\n",
        "\n",
        "# Calculate the mean\n",
        "mean_value = np.mean(arr)\n",
        "print(mean_value)\n",
        "\n",
        "# Calculate the median\n",
        "median_value = np.median(arr)\n",
        "print(median_value)\n",
        "\n",
        "# Calculate the standard deviation\n",
        "std_dev = np.std(arr)\n",
        "print(std_dev)"
      ],
      "metadata": {
        "colab": {
          "base_uri": "https://localhost:8080/"
        },
        "id": "95mJBOglgGk6",
        "outputId": "7f33b490-e145-4a2f-adf2-58e911f54ebd"
      },
      "execution_count": null,
      "outputs": [
        {
          "output_type": "stream",
          "name": "stdout",
          "text": [
            "1\n",
            "5\n",
            "3.0\n",
            "3.0\n",
            "1.4142135623730951\n"
          ]
        }
      ]
    },
    {
      "cell_type": "code",
      "source": [
        "import numpy as np\n",
        "\n",
        "# Create a matrix\n",
        "A = np.array([[1, 2], [3, 4]])\n",
        "\n",
        "# Calculate the inverse of the matrix\n",
        "A_inv = np.linalg.inv(A)\n",
        "print(A_inv)"
      ],
      "metadata": {
        "colab": {
          "base_uri": "https://localhost:8080/"
        },
        "id": "DQoNIhrOgK__",
        "outputId": "d79a6c34-f93c-4f69-8a17-758211917b2f"
      },
      "execution_count": null,
      "outputs": [
        {
          "output_type": "stream",
          "name": "stdout",
          "text": [
            "[[-2.   1. ]\n",
            " [ 1.5 -0.5]]\n"
          ]
        }
      ]
    },
    {
      "cell_type": "code",
      "source": [
        "# Calculate the determinant of the matrix\n",
        "det_A = np.linalg.det(A)\n",
        "print(det_A)"
      ],
      "metadata": {
        "colab": {
          "base_uri": "https://localhost:8080/"
        },
        "id": "oohDHnIAhSqu",
        "outputId": "be454516-1e60-41fe-b3ec-51ec67f13c44"
      },
      "execution_count": null,
      "outputs": [
        {
          "output_type": "stream",
          "name": "stdout",
          "text": [
            "-2.0000000000000004\n"
          ]
        }
      ]
    },
    {
      "cell_type": "code",
      "source": [
        "b = np.array([5, 6])\n",
        "x = np.linalg.solve(A, b)\n",
        "print(x)"
      ],
      "metadata": {
        "colab": {
          "base_uri": "https://localhost:8080/"
        },
        "id": "LoyZ2JE8ijzj",
        "outputId": "6934f4b9-6fb6-4c8c-800f-24774029fbc3"
      },
      "execution_count": null,
      "outputs": [
        {
          "output_type": "stream",
          "name": "stdout",
          "text": [
            "[-4.   4.5]\n"
          ]
        }
      ]
    },
    {
      "cell_type": "code",
      "source": [
        "# Calculate the eigenvalues and eigenvectors of the matrix\n",
        "eigenvalues, eigenvectors = np.linalg.eig(A)\n",
        "print(eigenvalues)\n",
        "print(eigenvectors)"
      ],
      "metadata": {
        "colab": {
          "base_uri": "https://localhost:8080/"
        },
        "id": "501P92uiioYL",
        "outputId": "0136b8b9-018f-4f55-996f-8c8b6abd479d"
      },
      "execution_count": null,
      "outputs": [
        {
          "output_type": "stream",
          "name": "stdout",
          "text": [
            "[-0.37228132  5.37228132]\n",
            "[[-0.82456484 -0.41597356]\n",
            " [ 0.56576746 -0.90937671]]\n"
          ]
        }
      ]
    },
    {
      "cell_type": "code",
      "source": [
        "rank_A = np.linalg.matrix_rank(A)\n",
        "print(rank_A)"
      ],
      "metadata": {
        "colab": {
          "base_uri": "https://localhost:8080/"
        },
        "id": "QJ2GhcPti5vH",
        "outputId": "3b3c70ba-f6c4-454e-8ffa-07c07276f249"
      },
      "execution_count": null,
      "outputs": [
        {
          "output_type": "stream",
          "name": "stdout",
          "text": [
            "2\n"
          ]
        }
      ]
    },
    {
      "cell_type": "code",
      "source": [
        "# Calculate the power of the matrix\n",
        "A_power = np.linalg.matrix_power(A, 2)\n",
        "print(A_power)"
      ],
      "metadata": {
        "colab": {
          "base_uri": "https://localhost:8080/"
        },
        "id": "ZQSyO5Najd3D",
        "outputId": "c6d1b394-57c0-412e-c63b-35ed01686c09"
      },
      "execution_count": null,
      "outputs": [
        {
          "output_type": "stream",
          "name": "stdout",
          "text": [
            "[[ 7 10]\n",
            " [15 22]]\n"
          ]
        }
      ]
    },
    {
      "cell_type": "code",
      "source": [],
      "metadata": {
        "id": "8LeBidhXjka0"
      },
      "execution_count": null,
      "outputs": []
    }
  ]
}